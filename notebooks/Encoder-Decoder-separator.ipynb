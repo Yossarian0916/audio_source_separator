{
 "cells": [
  {
   "cell_type": "code",
   "execution_count": 1,
   "metadata": {},
   "outputs": [],
   "source": [
    "import librosa\n",
    "import numpy as np\n",
    "import tensorflow as tf\n",
    "from tensorflow import keras\n",
    "from tensorflow.keras import layers, Model\n",
    "import tensorflow_addons as tfa\n",
    "\n",
    "from datetime import datetime\n",
    "import os\n",
    "import sys\n",
    "\n",
    "module_path = os.path.abspath(os.path.join(os.pardir))\n",
    "if module_path not in sys.path:\n",
    "    sys.path.append(module_path)\n",
    "from utils.helper import get_filenames, istft\n",
    "from utils.dataset import tfrecord2dataset"
   ]
  },
  {
   "cell_type": "markdown",
   "metadata": {},
   "source": [
    "## Preprocessing\n",
    "### Parameter configuration for STFT"
   ]
  },
  {
   "cell_type": "code",
   "execution_count": 2,
   "metadata": {},
   "outputs": [],
   "source": [
    "# parameter config\n",
    "N_FFT = 4096\n",
    "HOP_LEN = 1024\n",
    "WIN_LEN = 4096\n",
    "FREQ_BINS = 2049\n",
    "TIME_FRAMES = 87 \n",
    "SR = 44100\n",
    "DURATION = 2.0"
   ]
  },
  {
   "cell_type": "markdown",
   "metadata": {},
   "source": [
    "### Load training dataset"
   ]
  },
  {
   "cell_type": "code",
   "execution_count": 3,
   "metadata": {
    "scrolled": true
   },
   "outputs": [],
   "source": [
    "root = os.path.abspath(os.path.join(os.getcwd(), os.pardir))\n",
    "data_dir = os.path.join(root, 'data')\n",
    "# training data\n",
    "train_data_dir = os.path.join(data_dir, 'dsd100_train_tfrecords')\n",
    "train_tfrecords_zipfiles = get_filenames(train_data_dir+'/*')\n",
    "train_dataset = tfrecord2dataset(train_tfrecords_zipfiles)\n",
    "# test_data\n",
    "test_data_dir = os.path.join(data_dir, 'dsd100_test_tfrecords')\n",
    "test_tfrecords_zipfiles = get_filenames(test_data_dir+'/*')\n",
    "test_dataset = tfrecord2dataset(test_tfrecords_zipfiles)"
   ]
  },
  {
   "cell_type": "markdown",
   "metadata": {},
   "source": [
    "## Audio Separator Model\n",
    "### 1D transposed convolution"
   ]
  },
  {
   "cell_type": "code",
   "execution_count": 4,
   "metadata": {},
   "outputs": [],
   "source": [
    "# 1d transposed convolution\n",
    "class Conv1DTranspose(layers.Layer):\n",
    "    def __init__(self,\n",
    "                 filters,\n",
    "                 kernel_size,\n",
    "                 strides=1,\n",
    "                 name=None,\n",
    "                 **kwargs):\n",
    "        super(Conv1DTranspose, self).__init__(name=name, **kwargs)\n",
    "        self.expand_dim = layers.Lambda(lambda x: tf.expand_dims(x, axis=2))\n",
    "        self.conv2dtranspose = layers.Conv2DTranspose(filters, \n",
    "                                                      (kernel_size, 1), \n",
    "                                                      (strides, 1),\n",
    "                                                      padding='same')\n",
    "        self.squeeze_dim = layers.Lambda(lambda x: tf.squeeze(x, axis=2))\n",
    "        self.activation = layers.LeakyReLU(alpha=0.01)\n",
    "    \n",
    "    @tf.function\n",
    "    def call(self, inputs):\n",
    "        x = self.expand_dim(inputs)\n",
    "        x = self.conv2dtranspose(x)\n",
    "        x = self.squeeze_dim(x)\n",
    "        x = self.activation(x)\n",
    "        return x\n",
    "    \n",
    "# upsampling + conv1D\n",
    "class UpConv1D(layers.Layer):\n",
    "    def __init__(self,\n",
    "                 filters,\n",
    "                 kernel_size,\n",
    "                 strides,\n",
    "                 name=None,\n",
    "                 **kwargs):\n",
    "        super(UpConv1D, self).__init__(name=name, **kwargs)\n",
    "        self.upsampling = layers.UpSampling1D(size=2)\n",
    "        self.conv1d = layers.Conv1D(filters, kernel_size, strides, padding='same')\n",
    "        self.activation = layers.LekayReLU(alpha=0.01)\n",
    "    \n",
    "    @tf.function\n",
    "    def call(self, inputs):\n",
    "        x = self.upsampling(inputs)\n",
    "        x = self.conv1d(x)\n",
    "        x = self.activation(x)\n",
    "        return x"
   ]
  },
  {
   "cell_type": "markdown",
   "metadata": {},
   "source": [
    "### Customized layer and model"
   ]
  },
  {
   "cell_type": "code",
   "execution_count": 5,
   "metadata": {},
   "outputs": [],
   "source": [
    "class Encoder(layers.Layer):\n",
    "    def __init__(self, \n",
    "                 frequency_bins, \n",
    "                 time_frames, \n",
    "                 name='encoder',\n",
    "                 **kwargs):\n",
    "        super(Encoder, self).__init__(name=name, **kwargs)\n",
    "        self.freq_bins = frequency_bins\n",
    "        self.time_frames = time_frames\n",
    "        self.conv1 = layers.Conv1D(filters=self.freq_bins // 2, \n",
    "                                   kernel_size=3, \n",
    "                                   padding='same', \n",
    "                                   activation='relu')\n",
    "        self.conv2 = layers.Conv1D(filters=self.freq_bins // 4, \n",
    "                                   kernel_size=3, \n",
    "                                   strides=1, \n",
    "                                   padding='same', \n",
    "                                   activation='relu')\n",
    "        self.conv3 = layers.Conv1D(filters=self.freq_bins // 8, \n",
    "                                   kernel_size=3, \n",
    "                                   strides=1, \n",
    "                                   padding='same',\n",
    "                                   activation='relu')\n",
    "    \n",
    "    @tf.function\n",
    "    def call(self, inputs):\n",
    "        reshaped_inputs = layers.Reshape((self.time_frames, self.freq_bins))(inputs)\n",
    "        conv1 = self.conv1(reshaped_inputs)\n",
    "        conv2 = self.conv2(conv1)\n",
    "        conv3 = self.conv3(conv2)\n",
    "        return conv1, conv2, conv3\n",
    "\n",
    "    \n",
    "class Decoder(layers.Layer):\n",
    "    def __init__(self, \n",
    "                 frequency_bins, \n",
    "                 time_frames,\n",
    "                 name='decoder_skip_conn',\n",
    "                 **kwargs):\n",
    "        super(Decoder, self).__init__(name=name, **kwargs)\n",
    "        self.freq_bins = frequency_bins\n",
    "        self.time_frames = time_frames\n",
    "        self.tconv4 = Conv1DTranspose(filters=self.freq_bins // 4, kernel_size=3)\n",
    "        self.tconv5 = Conv1DTranspose(filters=self.freq_bins // 2, kernel_size=3)\n",
    "        self.tconv6 = Conv1DTranspose(filters=self.freq_bins, kernel_size=3)\n",
    "    \n",
    "    @tf.function\n",
    "    def call(self, inputs):\n",
    "        conv1, conv2, conv3 = inputs\n",
    "        # 1st deconvolution layer with skip connection\n",
    "        tconv4 = self.tconv4(conv3)\n",
    "        tconv4_output = layers.Add(name='skip_conn1')([tconv4, conv2])\n",
    "        # 2nd deconvolution layer with skip connection\n",
    "        tconv5 = self.tconv5(tconv4_output)\n",
    "        tconv5_output = layers.Add(name='skip_conn2')([tconv5, conv1])\n",
    "        # output deconvolution layer\n",
    "        tconv6 = self.tconv6(tconv5_output)\n",
    "        output = layers.Reshape((self.freq_bins, self.time_frames))(tconv6)\n",
    "        return output"
   ]
  },
  {
   "cell_type": "code",
   "execution_count": 6,
   "metadata": {},
   "outputs": [],
   "source": [
    "class Separator(keras.Model):\n",
    "    def __init__(self,\n",
    "                 frequency_bins, \n",
    "                 time_frames, \n",
    "                 name='Decoder_separator',\n",
    "                 **kwargs):\n",
    "        super(Separator, self).__init__(name=name, **kwargs)\n",
    "        self.freq_bins = frequency_bins\n",
    "        self.time_frames = time_frames\n",
    "\n",
    "        # encoder to compress input dimension\n",
    "        self.encoder = Encoder(frequency_bins, time_frames)\n",
    "        # decoder as separator for STEM\n",
    "        self.vocals_sep = Decoder(frequency_bins, time_frames)\n",
    "        self.bass_sep = Decoder(frequency_bins, time_frames)\n",
    "        self.drums_sep = Decoder(frequency_bins, time_frames)\n",
    "        self.other_sep = Decoder(frequency_bins, time_frames)\n",
    "    \n",
    "    @tf.function\n",
    "    def call(self, inputs):\n",
    "        latent_vec = self.encoder(inputs)\n",
    "        vocals = self.vocals_sep(latent_vec)\n",
    "        bass = self.bass_sep(latent_vec)\n",
    "        drums = self.drums_sep(latent_vec)\n",
    "        other = self.other_sep(latent_vec)\n",
    "        return tf.stack([vocals, bass, drums, other], axis=1)"
   ]
  },
  {
   "cell_type": "markdown",
   "metadata": {},
   "source": [
    "## Training"
   ]
  },
  {
   "cell_type": "code",
   "execution_count": null,
   "metadata": {
    "scrolled": true
   },
   "outputs": [
    {
     "name": "stdout",
     "output_type": "stream",
     "text": [
      "Train for 25 steps\n",
      "Epoch 1/200\n",
      "25/25 [==============================] - 57s 2s/step - loss: 4.3757\n",
      "Epoch 2/200\n",
      "25/25 [==============================] - 47s 2s/step - loss: 3.7663\n",
      "Epoch 3/200\n",
      "25/25 [==============================] - 47s 2s/step - loss: 3.5526\n",
      "Epoch 4/200\n",
      "25/25 [==============================] - 47s 2s/step - loss: 3.4390\n",
      "Epoch 5/200\n",
      "25/25 [==============================] - 47s 2s/step - loss: 3.2516\n",
      "Epoch 6/200\n",
      "25/25 [==============================] - 47s 2s/step - loss: 3.1515\n",
      "Epoch 7/200\n",
      "25/25 [==============================] - 47s 2s/step - loss: 3.0810\n",
      "Epoch 8/200\n",
      "25/25 [==============================] - 47s 2s/step - loss: 3.0017\n",
      "Epoch 9/200\n",
      "25/25 [==============================] - 47s 2s/step - loss: 2.9208\n",
      "Epoch 10/200\n",
      "25/25 [==============================] - 47s 2s/step - loss: 2.8331\n",
      "Epoch 11/200\n",
      "25/25 [==============================] - 47s 2s/step - loss: 2.8066\n",
      "Epoch 12/200\n",
      "25/25 [==============================] - 47s 2s/step - loss: 2.7097\n",
      "Epoch 13/200\n",
      "25/25 [==============================] - 47s 2s/step - loss: 2.6912\n",
      "Epoch 14/200\n",
      "25/25 [==============================] - 47s 2s/step - loss: 2.6226\n",
      "Epoch 15/200\n",
      "25/25 [==============================] - 47s 2s/step - loss: 2.5927\n",
      "Epoch 16/200\n",
      "25/25 [==============================] - 47s 2s/step - loss: 2.5345\n",
      "Epoch 17/200\n",
      "25/25 [==============================] - 47s 2s/step - loss: 2.5131\n",
      "Epoch 18/200\n",
      "25/25 [==============================] - 47s 2s/step - loss: 2.4620\n",
      "Epoch 19/200\n",
      "25/25 [==============================] - 47s 2s/step - loss: 2.4520\n",
      "Epoch 20/200\n",
      "25/25 [==============================] - 47s 2s/step - loss: 2.3622\n",
      "Epoch 21/200\n",
      "25/25 [==============================] - 47s 2s/step - loss: 2.3688\n",
      "Epoch 22/200\n",
      "25/25 [==============================] - 47s 2s/step - loss: 2.3507\n",
      "Epoch 23/200\n",
      "25/25 [==============================] - 47s 2s/step - loss: 2.3379\n",
      "Epoch 24/200\n",
      "25/25 [==============================] - 47s 2s/step - loss: 2.2332\n",
      "Epoch 25/200\n",
      "25/25 [==============================] - 47s 2s/step - loss: 2.2616\n",
      "Epoch 26/200\n",
      "25/25 [==============================] - 47s 2s/step - loss: 2.2639\n",
      "Epoch 27/200\n",
      "25/25 [==============================] - 47s 2s/step - loss: 2.2244\n",
      "Epoch 28/200\n",
      "25/25 [==============================] - 47s 2s/step - loss: 2.1484\n",
      "Epoch 29/200\n",
      "25/25 [==============================] - 47s 2s/step - loss: 2.1673\n",
      "Epoch 30/200\n",
      "25/25 [==============================] - 47s 2s/step - loss: 2.1830\n",
      "Epoch 31/200\n",
      "25/25 [==============================] - 47s 2s/step - loss: 2.1538\n",
      "Epoch 32/200\n",
      "25/25 [==============================] - 47s 2s/step - loss: 2.0522\n",
      "Epoch 33/200\n",
      " 9/25 [=========>....................] - ETA: 30s - loss: 2.0870"
     ]
    }
   ],
   "source": [
    "# train config\n",
    "EPOCHS = 200\n",
    "lr = 0.001\n",
    "BATCH_SIZE = 256\n",
    "\n",
    "# learning rate decay function\n",
    "lr_fn = keras.optimizers.schedules.ExponentialDecay(\n",
    "    initial_learning_rate=lr,\n",
    "    decay_steps=10000,\n",
    "    decay_rate=0.9,\n",
    "    staircase=True)\n",
    "# early stopping\n",
    "callback = tf.keras.callbacks.EarlyStopping(monitor='loss', min_delta=1e-3, verbose=True, patience=5)\n",
    "\n",
    "model = Separator(frequency_bins=FREQ_BINS, time_frames=TIME_FRAMES)\n",
    "optimizer = keras.optimizers.Adam(learning_rate=lr_fn)\n",
    "mse_loss = keras.losses.MeanSquaredError()\n",
    "model.compile(optimizer=optimizer, loss=mse_loss)\n",
    "history = model.fit(train_dataset, \n",
    "                    steps_per_epoch = 6488 // BATCH_SIZE,\n",
    "                    epochs=EPOCHS,\n",
    "                    callbacks=[callback])"
   ]
  },
  {
   "cell_type": "code",
   "execution_count": null,
   "metadata": {},
   "outputs": [],
   "source": [
    "model.summary()"
   ]
  },
  {
   "cell_type": "markdown",
   "metadata": {},
   "source": [
    "### Save model"
   ]
  },
  {
   "cell_type": "code",
   "execution_count": null,
   "metadata": {
    "scrolled": false
   },
   "outputs": [],
   "source": [
    "saved_model_dir = os.path.join(root, \"notebook\", \"encoder_decoder_separator\")\n",
    "if not os.path.exists(saved_model_dir):\n",
    "    os.mkdir(saved_model_dir)\n",
    "# save model\n",
    "date_time = datetime.now().strftime(\"%Y-%m-%d_%H:%Mjj\")\n",
    "saved_model_path = os.path.join(saved_model_dir, \"/encode_decoder_separator_{}\".format(date_time))\n",
    "tf.saved_model.save(model, saved_model_path)"
   ]
  },
  {
   "cell_type": "code",
   "execution_count": null,
   "metadata": {},
   "outputs": [],
   "source": [
    "train_loss_results=[]\n",
    "train_accuracy_results=[]\n",
    "epoch_loss_history = keras.metrics.Mean()\n",
    "\n",
    "EPOCHS = 150\n",
    "for epoch in range(EPOCHS):\n",
    "    print('START of Epoch %d' % (epoch,))\n",
    "    for step, (x_batch_train, y_batch_train) in enumerate(train_dataset):\n",
    "        with tf.GradientTape() as tape:\n",
    "            y_pred = model(x_batch_train)\n",
    "            loss = tf.reduce_mean(mse_loss(y_pred, y_batch_train))\n",
    "        grads = tape.gradient(loss, model.trainable_weights)\n",
    "        optimizer.apply_gradients(zip(grads, model.trainable_weights))\n",
    "        \n",
    "        # add current batch loss\n",
    "        epoch_loss_avg(loss)\n",
    "        if step % 10 == 0:\n",
    "            print('step {}: mean loss = {}'.format(step, epoch_loss_history.result()))\n",
    "    \n",
    "    # after each epoch\n",
    "    train_loss_results.append(epoch_loss_history.result())\n",
    "    if epoch % 50 == 0:\n",
    "        print(\"Epoch {:03d}: Loss: {:.3f}\".format(epoch, epoch_loss_history.result()))\n",
    "print('END')"
   ]
  },
  {
   "cell_type": "code",
   "execution_count": null,
   "metadata": {},
   "outputs": [],
   "source": [
    "# Visualization\n",
    "fig, axes = plt.subplots(2, sharex=True, figsize=(12, 8))\n",
    "fig.suptitle('Training Metrics')\n",
    "\n",
    "axes[0].set_ylabel(\"Loss\", fontsize=14)\n",
    "axes[0].plot(train_loss_results)\n",
    "\n",
    "axes[1].set_ylabel(\"Accuracy\", fontsize=14)\n",
    "axes[1].set_xlabel(\"Epoch\", fontsize=14)\n",
    "axes[1].plot(train_accuracy_results)\n",
    "plt.show()"
   ]
  }
 ],
 "metadata": {
  "kernelspec": {
   "display_name": "Python 3",
   "language": "python",
   "name": "python3"
  },
  "language_info": {
   "codemirror_mode": {
    "name": "ipython",
    "version": 3
   },
   "file_extension": ".py",
   "mimetype": "text/x-python",
   "name": "python",
   "nbconvert_exporter": "python",
   "pygments_lexer": "ipython3",
   "version": "3.6.9"
  }
 },
 "nbformat": 4,
 "nbformat_minor": 2
}
