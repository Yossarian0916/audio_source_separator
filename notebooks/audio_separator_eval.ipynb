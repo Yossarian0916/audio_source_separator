{
 "cells": [
  {
   "cell_type": "code",
   "execution_count": null,
   "metadata": {},
   "outputs": [],
   "source": [
    "import os\n",
    "import sys\n",
    "from random import randint\n",
    "\n",
    "\n",
    "module_path = os.path.abspath(os.path.join(os.getcwd(), os.pardir))  \n",
    "if module_path not in sys.path:       \n",
    "    sys.path.append(module_path)"
   ]
  },
  {
   "cell_type": "code",
   "execution_count": null,
   "metadata": {},
   "outputs": [],
   "source": [
    "import librosa\n",
    "import numpy as np\n",
    "import tensorflow as tf\n",
    "import IPython.display as ipd\n",
    "from utils.helper import wav_to_spectrogram_clips, rebuild_audio_from_spectro_clips\n",
    "from utils.dataset import create_samples"
   ]
  },
  {
   "cell_type": "code",
   "execution_count": null,
   "metadata": {},
   "outputs": [],
   "source": [
    "samples = create_samples('Test')\n",
    "test_sample = samples[randint(0, len(samples)-1)]\n",
    "\n",
    "test_song = test_sample['mix']\n",
    "vocal_track = test_sample['vocals']\n",
    "ipd.Audio(vocal_track, rate=44100)"
   ]
  },
  {
   "cell_type": "code",
   "execution_count": null,
   "metadata": {
    "scrolled": true
   },
   "outputs": [],
   "source": [
    "sorted(os.listdir('../saved_model'))"
   ]
  },
  {
   "cell_type": "code",
   "execution_count": null,
   "metadata": {
    "scrolled": true
   },
   "outputs": [],
   "source": [
    "# load model\n",
    "separator = tf.keras.models.load_model(os.path.join('../saved_model', 'conv_denoising_unet?time=20200226_1546.h5'))"
   ]
  },
  {
   "cell_type": "code",
   "execution_count": null,
   "metadata": {},
   "outputs": [],
   "source": [
    "pred = separator.predict(wav_to_spectrogram_clips(test_song))"
   ]
  },
  {
   "cell_type": "code",
   "execution_count": null,
   "metadata": {},
   "outputs": [],
   "source": [
    "pred_vocal = np.squeeze(pred[0], axis=-1)\n",
    "print(pred_vocal.shape)"
   ]
  },
  {
   "cell_type": "code",
   "execution_count": null,
   "metadata": {},
   "outputs": [],
   "source": [
    "separated_vocals = rebuild_audio_from_spectro_clips(pred_vocal)\n",
    "ipd.Audio(separated_vocals, rate=44100)"
   ]
  },
  {
   "cell_type": "code",
   "execution_count": null,
   "metadata": {},
   "outputs": [],
   "source": []
  }
 ],
 "metadata": {
  "kernelspec": {
   "display_name": "Python 3",
   "language": "python",
   "name": "python3"
  },
  "language_info": {
   "codemirror_mode": {
    "name": "ipython",
    "version": 3
   },
   "file_extension": ".py",
   "mimetype": "text/x-python",
   "name": "python",
   "nbconvert_exporter": "python",
   "pygments_lexer": "ipython3",
   "version": "3.6.9"
  }
 },
 "nbformat": 4,
 "nbformat_minor": 4
}
