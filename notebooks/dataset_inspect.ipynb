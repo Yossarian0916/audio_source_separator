{
 "cells": [
  {
   "cell_type": "code",
   "execution_count": null,
   "metadata": {},
   "outputs": [],
   "source": [
    "import os\n",
    "import sys\n",
    "import tensorflow as tf\n",
    "import numpy as np\n",
    "import IPython.display as ipd\n",
    "\n",
    "module_path = os.path.abspath(os.path.join(os.getcwd(), os.pardir))  \n",
    "if module_path not in sys.path:       \n",
    "    sys.path.append(module_path)\n",
    "from utils.helper import wav2stft, wav2logspectro, rebuild_audio_from_spectro_clips\n",
    "from training.make_dataset import DSD100Dataset"
   ]
  },
  {
   "cell_type": "code",
   "execution_count": null,
   "metadata": {},
   "outputs": [],
   "source": [
    "# load dataset\n",
    "dsd100_dataset = DSD100Dataset(batch_size=1)\n",
    "train_dataset, valid_dataset, test_dataset = dsd100_dataset.get_datasets()\n",
    "train_data_size, valid_data_size, test_data_size = dsd100_dataset.dataset_stat()"
   ]
  },
  {
   "cell_type": "code",
   "execution_count": null,
   "metadata": {},
   "outputs": [],
   "source": [
    "for sample in train_dataset.take(1):\n",
    "    print(sample.shape)\n",
    "    print(sample.__dict__)"
   ]
  },
  {
   "cell_type": "code",
   "execution_count": null,
   "metadata": {},
   "outputs": [],
   "source": [
    "def concat_clips(audio_clips, phase_clips=None):\n",
    "    # if no phase information, use griffin lim algorithm to rebuild phase from magnitude\n",
    "    if phase_clips is None:\n",
    "        reconstructed = [librosa.griffinlim(clip) for clip in audio_clips]\n",
    "    else:\n",
    "        reconstructed = [librosa.istft(clip*phase_clip) for (clip, phase_clip) in zip(audio_clips, phase_clips)]\n",
    "    # string together all audio clips\n",
    "    reconstructed = np.concatenate(reconstructed, axis=0)\n",
    "    return reconstructed"
   ]
  },
  {
   "cell_type": "code",
   "execution_count": null,
   "metadata": {},
   "outputs": [],
   "source": [
    "test_case = list()\n",
    "for sample in train_dataset.take(10):\n",
    "    test_case.append(sample)"
   ]
  },
  {
   "cell_type": "code",
   "execution_count": null,
   "metadata": {},
   "outputs": [],
   "source": [
    "sample1 = test_case[0]\n",
    "reconstructed = librosa.istft(sample1)\n",
    "ipd.Audio(reconstructed, rate=44100)"
   ]
  },
  {
   "cell_type": "code",
   "execution_count": null,
   "metadata": {},
   "outputs": [],
   "source": [
    "reconstructed = librosa.griffinlim(sample1)\n",
    "ipd.Audio(reconstructed, rate=44100)"
   ]
  },
  {
   "cell_type": "code",
   "execution_count": null,
   "metadata": {},
   "outputs": [],
   "source": [
    "reconstructed = rebuild_audio_from_spectro_clips(test_case)\n",
    "ipd.Audio(reconstructed, rate=44100)"
   ]
  }
 ],
 "metadata": {
  "kernelspec": {
   "display_name": "Python 3",
   "language": "python",
   "name": "python3"
  },
  "language_info": {
   "codemirror_mode": {
    "name": "ipython",
    "version": 3
   },
   "file_extension": ".py",
   "mimetype": "text/x-python",
   "name": "python",
   "nbconvert_exporter": "python",
   "pygments_lexer": "ipython3",
   "version": "3.6.9"
  }
 },
 "nbformat": 4,
 "nbformat_minor": 4
}
