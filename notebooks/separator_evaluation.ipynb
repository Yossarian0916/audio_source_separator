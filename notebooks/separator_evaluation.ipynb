{
 "cells": [
  {
   "cell_type": "code",
   "execution_count": null,
   "metadata": {},
   "outputs": [],
   "source": [
    "import IPython.display as ipd\n",
    "import librosa\n",
    "import numpy as np\n",
    "import tensorflow as tf\n",
    "\n",
    "import os\n",
    "import sys\n",
    "\n",
    "module_path = os.path.abspath(os.path.join(os.pardir))\n",
    "if module_path not in sys.path:\n",
    "    sys.path.append(module_path)\n",
    "from utils.helper import get_stft, istft, get_filenames"
   ]
  },
  {
   "cell_type": "markdown",
   "metadata": {},
   "source": [
    "# Loading data"
   ]
  },
  {
   "cell_type": "code",
   "execution_count": null,
   "metadata": {},
   "outputs": [],
   "source": [
    "root = os.path.abspath(os.path.join(os.getcwd(), os.pardir))\n",
    "data_dir = os.path.join(root, 'data')\n",
    "\n",
    "dsd100_mix = os.path.join(data_dir, 'DSD100/Mixtures/Test')\n",
    "dsd100_songs = [os.path.join(song_path, 'mixture.wav') for song_path in get_filenames(dsd100_mix+'/*')]\n",
    "\n",
    "dsd100_stem = os.path.join(data_dir, 'DSD100/Sources/Test')\n",
    "dsd100_bass = [os.path.join(song_path, 'bass.wav') for song_path in get_filenames(dsd100_stem+'/*')]\n",
    "dsd100_drums = [os.path.join(song_path, 'drums.wav') for song_path in get_filenames(dsd100_stem+'/*')]\n",
    "dsd100_other = [os.path.join(song_path, 'other.wav') for song_path in get_filenames(dsd100_stem+'/*')]\n",
    "dsd100_vocals = [os.path.join(song_path, 'vocals.wav') for song_path in get_filenames(dsd100_stem+'/*')]"
   ]
  },
  {
   "cell_type": "markdown",
   "metadata": {},
   "source": [
    "### test reverse STFT quality"
   ]
  },
  {
   "cell_type": "code",
   "execution_count": null,
   "metadata": {},
   "outputs": [],
   "source": [
    "test_song = dsd100_songs[0]\n",
    "ipd.Audio(test_song, rate=44100)"
   ]
  },
  {
   "cell_type": "code",
   "execution_count": null,
   "metadata": {},
   "outputs": [],
   "source": [
    "test_song_stft = get_stft(test_song)\n",
    "test_song_reconstructed = [istft(clip) for clip in test_song_stft]\n",
    "test_song_reconstructed = np.concatenate(test_song_reconstructed)\n",
    "ipd.Audio(test_song_reconstructed, rate=44100)"
   ]
  },
  {
   "cell_type": "markdown",
   "metadata": {},
   "source": [
    "# Evaluate Separator"
   ]
  },
  {
   "cell_type": "code",
   "execution_count": null,
   "metadata": {},
   "outputs": [],
   "source": [
    "test_song = dsd100_songs[0]\n",
    "test_song_stft = get_stft(test_song)\n",
    "test_song_stft = tf.expand_dims(test_song_stft, axis=1)\n",
    "print(test_song_stft.shape)"
   ]
  }
 ],
 "metadata": {
  "kernelspec": {
   "display_name": "Python 3",
   "language": "python",
   "name": "python3"
  },
  "language_info": {
   "codemirror_mode": {
    "name": "ipython",
    "version": 3
   },
   "file_extension": ".py",
   "mimetype": "text/x-python",
   "name": "python",
   "nbconvert_exporter": "python",
   "pygments_lexer": "ipython3",
   "version": "3.6.9"
  }
 },
 "nbformat": 4,
 "nbformat_minor": 2
}
