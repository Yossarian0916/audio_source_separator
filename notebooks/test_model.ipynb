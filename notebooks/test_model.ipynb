{
 "cells": [
  {
   "cell_type": "code",
   "execution_count": null,
   "metadata": {},
   "outputs": [],
   "source": [
    "import os\n",
    "import sys\n",
    "\n",
    "\n",
    "module_path = os.path.abspath(os.path.join(os.getcwd(), os.pardir))  \n",
    "if module_path not in sys.path:       \n",
    "    sys.path.append(module_path)"
   ]
  },
  {
   "cell_type": "code",
   "execution_count": null,
   "metadata": {},
   "outputs": [],
   "source": [
    "import numpy as np\n",
    "import tensorflow as tf\n",
    "import IPython.display as ipd\n",
    "from utils.helper import wav_to_spectrogram_clips, rebuild_audio_from_spectro_clips\n",
    "from utils.dataset import create_samples\n",
    "from models.conv_denoising_unet import ConvDenoisingUnet\n",
    "from training.plot import plot_curve, plot_learning_curves"
   ]
  },
  {
   "cell_type": "code",
   "execution_count": null,
   "metadata": {},
   "outputs": [],
   "source": [
    "samples = create_samples('Dev')\n",
    "train_sample = samples[0]\n",
    "\n",
    "x_train = wav_to_spectrogram_clips(train_sample['mix'])\n",
    "y_train = dict()\n",
    "y_train['vocals'] = wav_to_spectrogram_clips(train_sample['vocals'])\n",
    "y_train['bass'] = wav_to_spectrogram_clips(train_sample['bass'])\n",
    "y_train['drums'] = wav_to_spectrogram_clips(train_sample['drums'])\n",
    "y_train['other'] =  wav_to_spectrogram_clips(train_sample['other'])"
   ]
  },
  {
   "cell_type": "code",
   "execution_count": null,
   "metadata": {
    "scrolled": true
   },
   "outputs": [],
   "source": [
    "# separator model\n",
    "separator = ConvDenoisingUnet(1025, 100, (3, 3))\n",
    "model = separator.get_model()\n",
    "model.summary()\n",
    "\n",
    "\n",
    "# BEGIN TRAINING\n",
    "model.compile(optimizer=tf.keras.optimizers.Adam(lr=0.001),\n",
    "              loss={'vocals': tf.keras.losses.MeanSquaredError(),\n",
    "                    'bass': tf.keras.losses.MeanSquaredError(),\n",
    "                    'drums': tf.keras.losses.MeanSquaredError(),\n",
    "                    'other': tf.keras.losses.MeanSquaredError()})\n",
    "\n",
    "history = model.fit(x_train, y_train,\n",
    "                    batch_size=1,\n",
    "                    epochs=50,\n",
    "                    verbose=2)"
   ]
  },
  {
   "cell_type": "code",
   "execution_count": null,
   "metadata": {},
   "outputs": [],
   "source": [
    "pred = model.predict(wav_to_spectrogram_clips(train_sample['mix']))\n",
    "pred_vocal = np.squeeze(pred[0], axis=-1)\n",
    "print(pred_vocal.shape)"
   ]
  },
  {
   "cell_type": "code",
   "execution_count": null,
   "metadata": {},
   "outputs": [],
   "source": [
    "separated_vocals = rebuild_audio_from_spectro_clips(pred_vocal)\n",
    "ipd.Audio(separated_vocals, rate=44100)"
   ]
  },
  {
   "cell_type": "code",
   "execution_count": null,
   "metadata": {},
   "outputs": [],
   "source": [
    "reconstructed_vocal = rebuild_audio_from_spectro_clips(wav_to_spectrogram_clips(train_sample['vocals']))\n",
    "ipd.Audio(train_sample['vocals'], rate=44100)"
   ]
  },
  {
   "cell_type": "code",
   "execution_count": null,
   "metadata": {},
   "outputs": [],
   "source": []
  }
 ],
 "metadata": {
  "kernelspec": {
   "display_name": "Python 3",
   "language": "python",
   "name": "python3"
  },
  "language_info": {
   "codemirror_mode": {
    "name": "ipython",
    "version": 3
   },
   "file_extension": ".py",
   "mimetype": "text/x-python",
   "name": "python",
   "nbconvert_exporter": "python",
   "pygments_lexer": "ipython3",
   "version": "3.6.9"
  }
 },
 "nbformat": 4,
 "nbformat_minor": 4
}
